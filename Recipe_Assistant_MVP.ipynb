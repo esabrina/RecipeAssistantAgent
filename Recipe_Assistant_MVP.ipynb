{
  "cells": [
    {
      "cell_type": "markdown",
      "source": [
        "# Recipe Assistant MVP\n",
        "**Project:** Personalized and Conscious Recipe Assistant Agent\n",
        "\n",
        "*Initial code (MVP) for a conversational recipe assistant using Google Gemini SDK in Google Colab. This MVP focuses on using Gemini to generate recipes and adaptations directly based on user input, simulating search/creation.*\n",
        "\n",
        "\n",
        "\n"
      ],
      "metadata": {
        "id": "J4BQCgz1JYWr"
      }
    },
    {
      "cell_type": "code",
      "source": [
        "import google.generativeai as genai\n",
        "import os\n",
        "from IPython.display import display, Markdown\n",
        "from google.colab import userdata\n",
        "\n",
        "\n",
        "global_chat_persona = \"Personal Recipe Assistant\"\n",
        "\n",
        "# Configure the Google Gemini API\n",
        "try:\n",
        "    google_api_key = userdata.get('GOOGLE_API_KEY')\n",
        "    os.environ[\"GOOGLE_API_KEY\"] = google_api_key\n",
        "    if not google_api_key:\n",
        "        raise ValueError(\"API Key not found in Colab secrets.\")\n",
        "    genai.configure(api_key=google_api_key)\n",
        "except ImportError:\n",
        "    if not google_api_key:\n",
        "        print(\"API Key not found in the environment variables.\")\n",
        "        google_api_key = None\n",
        "except Exception as e:\n",
        "    print(f\"Error! API Key not found: {e}\")\n",
        "    google_api_key = None\n"
      ],
      "metadata": {
        "id": "WsUrChT9JUcO"
      },
      "execution_count": null,
      "outputs": []
    },
    {
      "cell_type": "markdown",
      "source": [
        "## Agent prompts"
      ],
      "metadata": {
        "id": "6k9q1q_0KaOs"
      }
    },
    {
      "cell_type": "code",
      "source": [
        "# 1. Understand the user's request\n",
        "request_prompt = \"\"\"\n",
        "You are the main Orchestrator Agent for a Personalized and Conscious Recipe Assistant.\n",
        "Your role is to understand the user's request, identify key information (ingredients, restrictions, desired meal type, number of servings, specific adaptations like Airfryer), and coordinate the work of specialized recipe agents.\n",
        "\n",
        "Based on the user's input, extract the following information:\n",
        "- Ingredients provided (list)\n",
        "- Dietary restrictions (list, e.g., \"gluten-free\", \"vegan\", \"no nuts\")\n",
        "- Meal type (e.g., \"lunch\", \"dinner\", \"snack\")\n",
        "- Number of servings (integer, default to 2 if not specified)\n",
        "- Adaptation requests (list, e.g., \"Airfryer\")\n",
        "\n",
        "Present the extracted information in a clear, structured format (e.g., JSON-like structure or key-value pairs) so the main program can easily parse it and call the appropriate specialized agents. Do NOT generate the recipe yourself. Simply extract and format the request details.\n",
        "\n",
        "Example Output Format:\n",
        "{\n",
        "  \"ingredients\": [\"chicken\", \"broccoli\", \"rice\"],\n",
        "  \"restrictions\": [\"gluten-free\"],\n",
        "  \"meal_type\": \"lunch\",\n",
        "  \"servings\": 2,\n",
        "  \"adaptations\": [\"Airfryer\"]\n",
        "}\n",
        "\n",
        "If the request is unclear or missing crucial information (like ingredients), ask the user for clarification.\n",
        "\"\"\"\n",
        "\n",
        "# 2. Recipe generation based on ingredients and meal type.\n",
        "recipe_generator_prompt = \"\"\"\n",
        "You are a Recipe Generation Agent. Your task is to create a base recipe based on a list of ingredients and a meal type provided by the Orchestrator Agent.\n",
        "\n",
        "Generate a complete recipe including:\n",
        "- Title\n",
        "- Brief description\n",
        "- List of ingredients with suggested quantities\n",
        "- Step-by-step instructions for traditional preparation (stove, oven, etc.)\n",
        "\n",
        "The recipe should primarily use the ingredients provided. If necessary, you may suggest common pantry staples (salt, pepper, oil) but focus on the core ingredients given.\n",
        "Present the recipe in a clear, structured format using Markdown.\n",
        "\"\"\"\n",
        "\n",
        "# 3. Restriction adaptation to modify a recipe to meet specific dietary restrictions.\n",
        "restriction_adapter_prompt = \"\"\"\n",
        "You are a Restriction Adaptation Agent. Your task is to take an existing recipe and modify it to comply with a list of dietary restrictions provided by the Orchestrator Agent.\n",
        "\n",
        "Analyze the provided recipe and the restrictions. Suggest substitutions or modifications to ingredients and/or instructions to make the recipe compliant.\n",
        "\n",
        "Present the modified recipe or a clear list of changes needed, maintaining the original structure as much as possible. Use Markdown for clarity.\n",
        "If the recipe already meets the restrictions, state that. If necessary, use Google (google_search) to adapt the recipe.\n",
        "\"\"\"\n",
        "\n",
        "# 4. Airfryer adaptation\n",
        "airfryer_adapter_prompt = \"\"\"\n",
        "You are an Airfryer Adaptation Agent. Your task is to take an existing recipe and provide instructions on how to cook it using an Airfryer. If necessary, use Google (google_search) to adapt the recipe.\n",
        "\n",
        "Analyze the provided recipe. Determine appropriate temperatures, cooking times, and specific steps needed to prepare this dish in an Airfryer.\n",
        "\n",
        "Provide a separate section detailing the \"Airfryer Adaptation\". Include suggested temperature, estimated time, and any specific instructions (like preheating, shaking the basket, cooking in batches, etc.). Use Markdown for clarity.\n",
        "\"\"\""
      ],
      "metadata": {
        "id": "HPo839gbKZef"
      },
      "execution_count": null,
      "outputs": []
    },
    {
      "cell_type": "markdown",
      "source": [
        "## Agents"
      ],
      "metadata": {
        "id": "Jh1eTfAPzHt3"
      }
    },
    {
      "cell_type": "code",
      "source": [
        "# google agent framework\n",
        "!pip install -q google-adk"
      ],
      "metadata": {
        "id": "Zm6hBdNdy9fJ"
      },
      "execution_count": null,
      "outputs": []
    },
    {
      "cell_type": "code",
      "source": [
        "from google.adk.agents import Agent\n",
        "from google.adk.runners import Runner # orquestrador\n",
        "from google.adk.sessions import InMemorySessionService\n",
        "from google.adk.tools import google_search\n",
        "from google.genai import types\n",
        "import json\n",
        "import time\n",
        "\n",
        "\n",
        "class AgentResponseObject:\n",
        "    def __init__(self, text_content: str):\n",
        "        self.text = text_content\n",
        "\n",
        "default_model = 'gemini-2.5-flash-preview-04-17'\n",
        "\n",
        "# --- agent orchestrator function ---\n",
        "def call_agent(agent: Agent, message_text: str) -> str:\n",
        "    session_service = InMemorySessionService()\n",
        "    session = session_service.create_session(app_name=agent.name, user_id=\"user1\", session_id=\"session1\")\n",
        "    runner = Runner(agent=agent, app_name=agent.name, session_service=session_service)\n",
        "    content = types.Content(role=\"user\", parts=[types.Part(text=message_text)])\n",
        "\n",
        "    final_response_text = \"\"\n",
        "\n",
        "    for event in runner.run(user_id=\"user1\", session_id=\"session1\", new_message=content):\n",
        "        if event.is_final_response():\n",
        "            for part in event.content.parts:\n",
        "                if part.text is not None:\n",
        "                    final_response_text += part.text\n",
        "    return AgentResponseObject(final_response_text)\n",
        "\n",
        "# --- agents ---\n",
        "def request_agent(input):\n",
        "  agent = Agent(\n",
        "      name='request_agent',\n",
        "      model=default_model,\n",
        "      instruction=request_prompt,\n",
        "      description=\"Understand the user's request\"\n",
        "  )\n",
        "  return call_agent(agent, input)\n",
        "\n",
        "\n",
        "def recipe_generator_agent(input):\n",
        "  agent = Agent(\n",
        "      name='recipe_generator',\n",
        "      model=default_model,\n",
        "      instruction=recipe_generator_prompt,\n",
        "      description=\"Recipe generation based on ingredients\"\n",
        "  )\n",
        "  return call_agent(agent, input)\n",
        "\n",
        "\n",
        "def restriction_adapter_agent(input):\n",
        "  agent = Agent(\n",
        "      name='restriction_adapter',\n",
        "      model=default_model,\n",
        "      instruction=restriction_adapter_prompt,\n",
        "      description=\"Adaptation to modify a recipe to meet specific dietary restrictions\",\n",
        "      tools=[google_search]\n",
        "  )\n",
        "  return call_agent(agent, input)\n",
        "\n",
        "\n",
        "def airfryer_adapter_agent(recipe):\n",
        "  agent = Agent(\n",
        "      name='airfryer_adapter',\n",
        "      model=default_model,\n",
        "      instruction=airfryer_adapter_prompt,\n",
        "      description=\"Adaptat recipe to use airfryer\",\n",
        "      tools=[google_search]\n",
        "  )\n",
        "  return call_agent(agent, recipe)\n"
      ],
      "metadata": {
        "id": "DAHEGIpQvDRh"
      },
      "execution_count": null,
      "outputs": []
    },
    {
      "cell_type": "markdown",
      "source": [
        "## Main Orchestration"
      ],
      "metadata": {
        "id": "xurz8JbNMV72"
      }
    },
    {
      "cell_type": "code",
      "source": [
        "def process_user_request(user_input):\n",
        "    try:\n",
        "        # Step 1: Parse the user's request\n",
        "        print(\"\\nProcessing your request...\")\n",
        "        request_response = request_agent(f\"User request: {user_input}\\n\\nExtract details in JSON format.\")\n",
        "        request_details_str = request_response.text.strip()\n",
        "\n",
        "        # parsing JSON-like string\n",
        "        try:\n",
        "            if request_details_str.startswith(\"```json\"):\n",
        "                request_details_str = request_details_str[len(\"```json\"):].strip()\n",
        "            if request_details_str.endswith(\"```\"):\n",
        "                request_details_str = request_details_str[:-len(\"```\")].strip()\n",
        "            request_details = json.loads(request_details_str)\n",
        "            print(f\"{global_chat_persona}: Your request details {request_details}\")\n",
        "\n",
        "        except json.JSONDecodeError as e:\n",
        "            print(f\"{global_chat_persona}: The request details coud not be parsed. Error: {e}\")\n",
        "            # If parsing fails, return the response directly, maybe the orchestrator asked for clarification\n",
        "            return request_response.text\n",
        "\n",
        "        ingredients = request_details.get(\"ingredients\", [])\n",
        "        restrictions = request_details.get(\"restrictions\", [])\n",
        "        meal_type = request_details.get(\"meal_type\", \"meal\")\n",
        "        servings = request_details.get(\"servings\", 2) # Default to 2\n",
        "        adaptations = request_details.get(\"adaptations\", [])\n",
        "\n",
        "        if not ingredients:\n",
        "            return f\"{global_chat_persona}: Please tell me what ingredients you have so I can suggest a recipe.\"\n",
        "\n",
        "        # Step 2: Generate the base recipe\n",
        "        print(f\"{global_chat_persona}: Generating your recipe...\")\n",
        "        generator_input = f\"Ingredients: {', '.join(ingredients)}\\nMeal Type: {meal_type}\\nServings: {servings}\"\n",
        "        base_recipe_response = recipe_generator_agent(generator_input)\n",
        "        current_recipe_text = base_recipe_response.text\n",
        "        # Optional: show base recipe\n",
        "        # display(Markdown(current_recipe_text))\n",
        "\n",
        "        # Step 3: Restriction Adaptation if requested\n",
        "        if restrictions:\n",
        "            print(f\"{global_chat_persona}: Processing restriction adaptation as requested...\")\n",
        "            restriction_input = f\"Original Recipe:\\n{current_recipe_text}\\n\\nRestrictions: {', '.join(restrictions)}\"\n",
        "            restriction_response = restriction_adapter_agent(restriction_input)\n",
        "            current_recipe_text = restriction_response.text\n",
        "\n",
        "        # Step 4: Airfryer Adaptation if requested\n",
        "        if any(word.lower() == \"airfryer\".lower() for word in adaptations):\n",
        "            print(f\"{global_chat_persona}: Processing Airfryer adaptation as requested...\")\n",
        "            airfryer_input = f\"Original Recipe:\\n{current_recipe_text}\"\n",
        "            airfryer_response = airfryer_adapter_agent(airfryer_input)\n",
        "            current_recipe_text += \"\\n\\n\" + airfryer_response.text\n",
        "\n",
        "        # Step 5: Return the final recipe\n",
        "        return current_recipe_text\n",
        "\n",
        "    except Exception as e:\n",
        "        print(f\"{global_chat_persona}: Error when processing your request: {e}\")\n",
        "        return \"An error occurred while processing your request. Please try again.\"\n"
      ],
      "metadata": {
        "id": "QCXLM5XZNDdA"
      },
      "execution_count": null,
      "outputs": []
    },
    {
      "cell_type": "code",
      "source": [
        "# --- Main ---\n",
        "# user interaction\n",
        "if google_api_key:\n",
        "    try:\n",
        "        print(\"\\nHey! I am your personal Recipe Assistant.\\n\\n\")\n",
        "        print(\"Tell me what ingredients you have, your restrictions, for how many people, and if you want to adapt it for an Airfryer.\\n\")\n",
        "        print(\"Example: I have potatoes and cauliflower. I want a vegetarian and gluten-free dinner. Please adapt for the airfryer.\")\n",
        "\n",
        "        while True:\n",
        "          user_input = input(\"\\nRecipe request (or type 'exit' to quit): \")\n",
        "\n",
        "          # exit condition\n",
        "          if user_input.lower() == 'exit':\n",
        "              print(\"\\nEnjoy your meal... See you soon!\\n\\n \")\n",
        "              break\n",
        "\n",
        "          # Process using the multi-agent system\n",
        "          final_response_text = process_user_request(user_input)\n",
        "\n",
        "          print(f\"\\n{global_chat_persona}:\")\n",
        "          display(Markdown(final_response_text))\n",
        "\n",
        "          if \"An error occurrd while processing your request\" in final_response_text:\n",
        "              break\n",
        "          time.sleep(0.1)\n",
        "    except Exception as e:\n",
        "        print(f\"Error: {e}\")\n",
        "\n",
        "else:\n",
        "    print(f\"\\n{global_chat_persona} could not be initialized. Check your API Key and try again.\")\n"
      ],
      "metadata": {
        "id": "KM9sF9G5xdX_"
      },
      "execution_count": null,
      "outputs": []
    }
  ],
  "metadata": {
    "colab": {
      "provenance": []
    },
    "kernelspec": {
      "display_name": "Python 3",
      "name": "python3"
    }
  },
  "nbformat": 4,
  "nbformat_minor": 0
}